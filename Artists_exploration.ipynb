{
 "cells": [
  {
   "cell_type": "code",
   "execution_count": 2,
   "id": "fa54663a-7e9d-49f3-9c4d-2870899d77a4",
   "metadata": {},
   "outputs": [],
   "source": [
    "import pandas as pd\n",
    "import numpy as np\n",
    "import matplotlib.pyplot as plt\n",
    "from matplotlib.lines import Line2D\n",
    "from sklearn.preprocessing import StandardScaler, scale\n",
    "import seaborn as sns\n",
    "\n"
   ]
  },
  {
   "cell_type": "code",
   "execution_count": 72,
   "id": "9266120f-56b8-4b21-8c5d-2e4fb704fe4e",
   "metadata": {},
   "outputs": [],
   "source": [
    "##Artists dataset exploration"
   ]
  },
  {
   "cell_type": "code",
   "execution_count": 73,
   "id": "a21dd762-519e-42b2-b155-d4e80de5389b",
   "metadata": {},
   "outputs": [],
   "source": [
    "artists_df = pd.read_csv(r\"C:\\Users\\AMMINISTRATORE\\Desktop\\Guido\\Unipi\\DM2\\dataset\\dataset\\tabular\\artists.csv\", skipinitialspace=True)"
   ]
  },
  {
   "cell_type": "code",
   "execution_count": 74,
   "id": "761eae38-fbd2-4b07-8b60-5087260f0378",
   "metadata": {},
   "outputs": [
    {
     "name": "stdout",
     "output_type": "stream",
     "text": [
      "<class 'pandas.core.frame.DataFrame'>\n",
      "RangeIndex: 30141 entries, 0 to 30140\n",
      "Data columns (total 5 columns):\n",
      " #   Column      Non-Null Count  Dtype  \n",
      "---  ------      --------------  -----  \n",
      " 0   id          30140 non-null  object \n",
      " 1   name        30139 non-null  object \n",
      " 2   popularity  30140 non-null  float64\n",
      " 3   followers   30140 non-null  float64\n",
      " 4   genres      30140 non-null  object \n",
      "dtypes: float64(2), object(3)\n",
      "memory usage: 1.1+ MB\n"
     ]
    }
   ],
   "source": [
    "artists_df.info()\n"
   ]
  },
  {
   "cell_type": "code",
   "execution_count": 75,
   "id": "da9ed661-d07f-4084-8034-00e8880df845",
   "metadata": {},
   "outputs": [
    {
     "data": {
      "text/plain": [
       "id            1\n",
       "name          2\n",
       "popularity    1\n",
       "followers     1\n",
       "genres        1\n",
       "dtype: int64"
      ]
     },
     "execution_count": 75,
     "metadata": {},
     "output_type": "execute_result"
    }
   ],
   "source": [
    "artists_df.isnull().sum()"
   ]
  },
  {
   "cell_type": "code",
   "execution_count": 76,
   "id": "474fce7b-5ab3-443c-951d-8d7d43260999",
   "metadata": {},
   "outputs": [
    {
     "name": "stdout",
     "output_type": "stream",
     "text": [
      "Rows with null values:\n",
      "                           id name  popularity  followers genres\n",
      "11872                     NaN  NaN         NaN        NaN    NaN\n",
      "21223  4oPYazJJ1o4rWBrTw9lm40  NaN        47.0    35655.0     []\n"
     ]
    }
   ],
   "source": [
    "#Checking for null values in each row\n",
    "rows_with_null = artists_df[artists_df.isnull().any(axis=1)]\n",
    "\n",
    "print(\"Rows with null values:\")\n",
    "print(rows_with_null)"
   ]
  },
  {
   "cell_type": "code",
   "execution_count": 77,
   "id": "3a42e811-c87a-4036-b49d-32beb2161cbf",
   "metadata": {},
   "outputs": [
    {
     "name": "stdout",
     "output_type": "stream",
     "text": [
      "Rows with null values:\n",
      "Empty DataFrame\n",
      "Columns: [id, name, popularity, followers, genres]\n",
      "Index: []\n"
     ]
    }
   ],
   "source": [
    "# Remove the row at the specified index\n",
    "artists_df = artists_df.drop(11872)\n",
    "artists_df = artists_df.drop(21223)\n",
    "\n",
    "#Checking for null values in each row\n",
    "rows_with_null = artists_df[artists_df.isnull().any(axis=1)]\n",
    "\n",
    "print(\"Rows with null values:\")\n",
    "print(rows_with_null)"
   ]
  },
  {
   "cell_type": "code",
   "execution_count": 78,
   "id": "d4516c1b-3f62-4813-aa01-a607538a7e8b",
   "metadata": {},
   "outputs": [
    {
     "name": "stdout",
     "output_type": "stream",
     "text": [
      "Empty list in genres column: True\n"
     ]
    }
   ],
   "source": [
    "empty_list_in_genres = artists_df['genres'].apply(lambda x: x == '[]')\n",
    "print(\"Empty list in genres column:\", any(empty_list_in_genres))"
   ]
  },
  {
   "cell_type": "code",
   "execution_count": 79,
   "id": "3c034113-7dc3-46d8-8d04-ff8df5624d87",
   "metadata": {},
   "outputs": [
    {
     "name": "stdout",
     "output_type": "stream",
     "text": [
      "Duplicati nella colonna 'colonna_da_controllare':\n",
      "Empty DataFrame\n",
      "Columns: [id, name, popularity, followers, genres]\n",
      "Index: []\n"
     ]
    }
   ],
   "source": [
    "# Remove the row at the specified index\n",
    "artists_df = artists_df.drop(12798)\n",
    "artists_df = artists_df.drop(15776)\n",
    "artists_df = artists_df.drop_duplicates(subset=['name'])\n",
    "\n",
    "# check duplicate \n",
    "duplicati = artists_df.duplicated(subset=['name'], keep=False)\n",
    "\n",
    "# Visualizza i duplicati\n",
    "print(\"Duplicati nella colonna 'colonna_da_controllare':\")\n",
    "print(artists_df[duplicati])"
   ]
  },
  {
   "cell_type": "code",
   "execution_count": 60,
   "id": "25518cfe-36c9-41d8-a068-70e5fb62166f",
   "metadata": {},
   "outputs": [
    {
     "data": {
      "image/png": "[encoded data removed]",
      "text/plain": [
       "<Figure size 800x400 with 1 Axes>"
      ]
     },
     "metadata": {},
     "output_type": "display_data"
    }
   ],
   "source": [
    "\n",
    "# Plot histogram for 'popularity'\n",
    "plt.figure(figsize=(8, 4))\n",
    "plt.hist(artists_df['popularity'], bins=20, color='blue', alpha=0.7)\n",
    "plt.xlabel('Popularity')\n",
    "plt.ylabel('Frequency')\n",
    "plt.title('Histogram of Popularity')\n",
    "plt.grid(True)\n",
    "plt.show()\n"
   ]
  },
  {
   "cell_type": "code",
   "execution_count": 80,
   "id": "845c92eb-4eb9-4a83-bf98-3fed56ed930a",
   "metadata": {},
   "outputs": [],
   "source": [
    "def find_outliers_iqr(data):\n",
    "    Q1 = data.quantile(0.15)\n",
    "    Q3 = data.quantile(0.85)\n",
    "    IQR = Q3 - Q1\n",
    "    lower_bound = Q1 - 1.5 * IQR\n",
    "    upper_bound = Q3 + 1.5 * IQR\n",
    "    return data[(data < lower_bound) | (data > upper_bound)]"
   ]
  },
  {
   "cell_type": "code",
   "execution_count": 81,
   "id": "d6c4b4ad-505f-4cb2-bdb4-51028a85a5c9",
   "metadata": {},
   "outputs": [
    {
     "data": {
      "image/png": "[encoded data removed]",
      "text/plain": [
       "<Figure size 700x600 with 1 Axes>"
      ]
     },
     "metadata": {},
     "output_type": "display_data"
    },
    {
     "name": "stdout",
     "output_type": "stream",
     "text": [
      "{'popularity': 0, 'followers': 2537}\n"
     ]
    }
   ],
   "source": [
    "selected_columns = ['popularity', 'followers']\n",
    "\n",
    "# Create a DataFrame with selected columns\n",
    "selected_df = artists_df[selected_columns]\n",
    "\n",
    "# Calcola il numero di outlier per ogni attributo numerico\n",
    "outlier_counts = {}\n",
    "attributes = selected_df.columns\n",
    "for attribute in attributes:\n",
    "    outliers = find_outliers_iqr(selected_df[attribute])\n",
    "    outlier_counts[attribute] = outliers.count()\n",
    "\n",
    "# Creare un grafico a barre per il numero di outlier per ogni attributo numerico\n",
    "plt.figure(figsize=(7, 6))\n",
    "plt.bar(outlier_counts.keys(), outlier_counts.values())\n",
    "plt.title('Numero di Outlier per Attributo')\n",
    "plt.xlabel('Attributo')\n",
    "plt.ylabel('Numero di Outlier')\n",
    "plt.xticks(rotation=90)\n",
    "\n",
    "# Show the plot\n",
    "plt.show()\n",
    "\n",
    "print(outlier_counts)"
   ]
  },
  {
   "cell_type": "code",
   "execution_count": 63,
   "id": "647ec0a7-ea3a-4503-b10b-85c58e48486f",
   "metadata": {},
   "outputs": [
    {
     "data": {
      "image/png": "[encoded data removed]",
      "text/plain": [
       "<Figure size 500x600 with 1 Axes>"
      ]
     },
     "metadata": {},
     "output_type": "display_data"
    }
   ],
   "source": [
    "# Creating box plot using matplotlib\n",
    "plt.figure(figsize=(5, 6))\n",
    "plt.boxplot(selected_df.values, labels=selected_df.columns)\n",
    "plt.xlabel('Columns')\n",
    "plt.ylabel('Values')\n",
    "plt.title('Box Plot')\n",
    "plt.grid(True)\n",
    "plt.show()"
   ]
  },
  {
   "cell_type": "code",
   "execution_count": 64,
   "id": "734a7341-5fe2-4569-bbfc-07af751180f3",
   "metadata": {},
   "outputs": [],
   "source": [
    "# Extract the indexes\n",
    "indexes = outliers.index\n",
    "# Convert indexes to a list if needed\n",
    "indexes_list = indexes.tolist()\n",
    "for i in indexes_list:\n",
    "   artists_df = artists_df.drop(i)"
   ]
  },
  {
   "cell_type": "code",
   "execution_count": 65,
   "id": "301f3a6e-5dd2-4af0-9472-9d12b0cff019",
   "metadata": {},
   "outputs": [
    {
     "data": {
      "image/png": "[encoded data removed]",
      "text/plain": [
       "<Figure size 1200x600 with 1 Axes>"
      ]
     },
     "metadata": {},
     "output_type": "display_data"
    }
   ],
   "source": [
    "plt.figure(figsize=(12, 6))\n",
    "plt.hist(artists_df['followers'], bins=20, range=(0, 750000))  # Specifies the bin range from 0 to 100\n",
    "plt.xlabel('Followers')\n",
    "plt.ylabel('Frequency')\n",
    "plt.title('Histogram of Followers')\n",
    "plt.grid(True)\n",
    "plt.show()"
   ]
  },
  {
   "cell_type": "code",
   "execution_count": 69,
   "id": "00fb33fe-8abe-4e1b-8102-8df38b5a30aa",
   "metadata": {},
   "outputs": [
    {
     "name": "stderr",
     "output_type": "stream",
     "text": [
      "C:\\Users\\AMMINISTRATORE\\anaconda3\\Lib\\site-packages\\sklearn\\utils\\validation.py:767: FutureWarning: is_sparse is deprecated and will be removed in a future version. Check `isinstance(dtype, pd.SparseDtype)` instead.\n",
      "  if not hasattr(array, \"sparse\") and array.dtypes.apply(is_sparse).any():\n",
      "C:\\Users\\AMMINISTRATORE\\anaconda3\\Lib\\site-packages\\sklearn\\utils\\validation.py:605: FutureWarning: is_sparse is deprecated and will be removed in a future version. Check `isinstance(dtype, pd.SparseDtype)` instead.\n",
      "  if is_sparse(pd_dtype):\n",
      "C:\\Users\\AMMINISTRATORE\\anaconda3\\Lib\\site-packages\\sklearn\\utils\\validation.py:614: FutureWarning: is_sparse is deprecated and will be removed in a future version. Check `isinstance(dtype, pd.SparseDtype)` instead.\n",
      "  if is_sparse(pd_dtype) or not is_extension_array_dtype(pd_dtype):\n"
     ]
    }
   ],
   "source": [
    "from sklearn.preprocessing import StandardScaler\n",
    "from sklearn.preprocessing import scale\n",
    "\n",
    "# Assuming 'column1' and 'column2' are the columns you want to scale\n",
    "columns_to_scale = ['popularity', 'followers']\n",
    "\n",
    "# Fit and transform the selected columns\n",
    "scaled_values = scale(artists_df[columns_to_scale])\n",
    "\n",
    "# Update the DataFrame with scaled values\n",
    "artists_df[columns_to_scale] = scaled_values\n"
   ]
  },
  {
   "cell_type": "code",
   "execution_count": 70,
   "id": "560671ef-1c4a-4359-a906-3c67c247fd0e",
   "metadata": {},
   "outputs": [
    {
     "data": {
      "image/png": "[encoded data removed]",
      "text/plain": [
       "<Figure size 600x500 with 2 Axes>"
      ]
     },
     "metadata": {},
     "output_type": "display_data"
    }
   ],
   "source": [
    "selected_columns = ['popularity', 'followers']\n",
    "\n",
    "# Create a DataFrame with selected columns\n",
    "selected_df = artists_df[selected_columns]\n",
    "\n",
    "# Calculate the correlation matrix\n",
    "correlation_matrix = selected_df.corr()\n",
    "\n",
    "# Create a heatmap to visualize the correlation matrix\n",
    "plt.figure(figsize=(6, 5))\n",
    "sns.heatmap(correlation_matrix, annot=True, cmap='coolwarm', fmt=\".2f\", linewidths=0.5)\n",
    "plt.title('Correlation Matrix')\n",
    "plt.show()"
   ]
  },
  {
   "cell_type": "code",
   "execution_count": null,
   "id": "51ba78ff-cede-4fe6-9f6a-226c8b5a4251",
   "metadata": {},
   "outputs": [],
   "source": []
  },
  {
   "cell_type": "code",
   "execution_count": null,
   "id": "9676dcd4-023b-4c72-986e-32a123331f11",
   "metadata": {},
   "outputs": [],
   "source": []
  },
  {
   "cell_type": "code",
   "execution_count": null,
   "id": "6d0a91ec-89cf-4994-b7cf-4e3227b5d905",
   "metadata": {},
   "outputs": [],
   "source": [
    "#Creation of the merged_df and exploration"
   ]
  },
  {
   "cell_type": "code",
   "execution_count": 3,
   "id": "751dc9ff-011e-4caa-b7ad-3e36012426d9",
   "metadata": {},
   "outputs": [],
   "source": [
    "tracks_df = pd.read_csv(r\"C:\\Users\\AMMINISTRATORE\\Desktop\\Guido\\Unipi\\DM2\\dataset\\dataset\\tabular\\tracks.csv\", skipinitialspace=True)"
   ]
  },
  {
   "cell_type": "code",
   "execution_count": 6,
   "id": "5eac2607-3469-47d4-baad-2c60bad089cb",
   "metadata": {},
   "outputs": [
    {
     "data": {
      "text/html": [
       "<div>\n",
       "<style scoped>\n",
       "    .dataframe tbody tr th:only-of-type {\n",
       "        vertical-align: middle;\n",
       "    }\n",
       "\n",
       "    .dataframe tbody tr th {\n",
       "        vertical-align: top;\n",
       "    }\n",
       "\n",
       "    .dataframe thead th {\n",
       "        text-align: right;\n",
       "    }\n",
       "</style>\n",
       "<table border=\"1\" class=\"dataframe\">\n",
       "  <thead>\n",
       "    <tr style=\"text-align: right;\">\n",
       "      <th></th>\n",
       "      <th>id</th>\n",
       "      <th>name</th>\n",
       "      <th>disc_number</th>\n",
       "      <th>duration_ms</th>\n",
       "      <th>explicit</th>\n",
       "      <th>popularity</th>\n",
       "      <th>track_number</th>\n",
       "      <th>artists</th>\n",
       "      <th>album_type</th>\n",
       "      <th>album_name</th>\n",
       "      <th>...</th>\n",
       "      <th>features_duration_ms</th>\n",
       "      <th>time_signature</th>\n",
       "      <th>start_of_fade_out</th>\n",
       "      <th>tempo_confidence</th>\n",
       "      <th>time_signature_confidence</th>\n",
       "      <th>key_confidence</th>\n",
       "      <th>mode_confidence</th>\n",
       "      <th>n_beats</th>\n",
       "      <th>n_bars</th>\n",
       "      <th>genre</th>\n",
       "    </tr>\n",
       "  </thead>\n",
       "  <tbody>\n",
       "    <tr>\n",
       "      <th>0</th>\n",
       "      <td>4rjA5kJJWbwU1prXCvg6Fk</td>\n",
       "      <td>Grey</td>\n",
       "      <td>1</td>\n",
       "      <td>290479</td>\n",
       "      <td>False</td>\n",
       "      <td>52</td>\n",
       "      <td>5</td>\n",
       "      <td>Kölsch</td>\n",
       "      <td>album</td>\n",
       "      <td>1989</td>\n",
       "      <td>...</td>\n",
       "      <td>290479</td>\n",
       "      <td>3</td>\n",
       "      <td>275.90530</td>\n",
       "      <td>0.020</td>\n",
       "      <td>1.000</td>\n",
       "      <td>0.500</td>\n",
       "      <td>0.525</td>\n",
       "      <td>705.0</td>\n",
       "      <td>234.0</td>\n",
       "      <td>minimal-techno</td>\n",
       "    </tr>\n",
       "    <tr>\n",
       "      <th>1</th>\n",
       "      <td>6xzpUzzIquIyUzTLbbgSdI</td>\n",
       "      <td>Thrown</td>\n",
       "      <td>1</td>\n",
       "      <td>539229</td>\n",
       "      <td>False</td>\n",
       "      <td>45</td>\n",
       "      <td>5</td>\n",
       "      <td>Kiasmos</td>\n",
       "      <td>album</td>\n",
       "      <td>Kiasmos</td>\n",
       "      <td>...</td>\n",
       "      <td>539229</td>\n",
       "      <td>4</td>\n",
       "      <td>517.28253</td>\n",
       "      <td>0.678</td>\n",
       "      <td>0.326</td>\n",
       "      <td>0.410</td>\n",
       "      <td>0.589</td>\n",
       "      <td>1074.0</td>\n",
       "      <td>269.0</td>\n",
       "      <td>minimal-techno</td>\n",
       "    </tr>\n",
       "    <tr>\n",
       "      <th>2</th>\n",
       "      <td>56tXgHlSHCfgmGhwVXNizc</td>\n",
       "      <td>Routine</td>\n",
       "      <td>1</td>\n",
       "      <td>264200</td>\n",
       "      <td>False</td>\n",
       "      <td>39</td>\n",
       "      <td>5</td>\n",
       "      <td>Joris Delacroix</td>\n",
       "      <td>album</td>\n",
       "      <td>Night Visions</td>\n",
       "      <td>...</td>\n",
       "      <td>264200</td>\n",
       "      <td>3</td>\n",
       "      <td>259.04180</td>\n",
       "      <td>0.847</td>\n",
       "      <td>0.457</td>\n",
       "      <td>0.904</td>\n",
       "      <td>0.760</td>\n",
       "      <td>516.0</td>\n",
       "      <td>171.0</td>\n",
       "      <td>minimal-techno</td>\n",
       "    </tr>\n",
       "    <tr>\n",
       "      <th>3</th>\n",
       "      <td>0s3wIBczp6TdSJ2y8cveJl</td>\n",
       "      <td>Confronted - Anfisa Letyago Stranger Remix</td>\n",
       "      <td>1</td>\n",
       "      <td>387413</td>\n",
       "      <td>False</td>\n",
       "      <td>0</td>\n",
       "      <td>6</td>\n",
       "      <td>Pan-Pot;Anfisa Letyago</td>\n",
       "      <td>single</td>\n",
       "      <td>Confronted Remixes</td>\n",
       "      <td>...</td>\n",
       "      <td>387414</td>\n",
       "      <td>4</td>\n",
       "      <td>387.41360</td>\n",
       "      <td>0.882</td>\n",
       "      <td>0.498</td>\n",
       "      <td>0.512</td>\n",
       "      <td>0.503</td>\n",
       "      <td>826.0</td>\n",
       "      <td>207.0</td>\n",
       "      <td>minimal-techno</td>\n",
       "    </tr>\n",
       "    <tr>\n",
       "      <th>4</th>\n",
       "      <td>4PSbDDd1LRYMhqPXvza6I2</td>\n",
       "      <td>Jupiter Sunrise</td>\n",
       "      <td>1</td>\n",
       "      <td>248956</td>\n",
       "      <td>False</td>\n",
       "      <td>0</td>\n",
       "      <td>1</td>\n",
       "      <td>Kollektiv Turmstrasse</td>\n",
       "      <td>compilation</td>\n",
       "      <td>10 Years Diynamic</td>\n",
       "      <td>...</td>\n",
       "      <td>248957</td>\n",
       "      <td>4</td>\n",
       "      <td>239.63574</td>\n",
       "      <td>0.882</td>\n",
       "      <td>1.000</td>\n",
       "      <td>0.474</td>\n",
       "      <td>0.459</td>\n",
       "      <td>493.0</td>\n",
       "      <td>123.0</td>\n",
       "      <td>minimal-techno</td>\n",
       "    </tr>\n",
       "  </tbody>\n",
       "</table>\n",
       "<p>5 rows × 34 columns</p>\n",
       "</div>"
      ],
      "text/plain": [
       "                       id                                        name  \\\n",
       "0  4rjA5kJJWbwU1prXCvg6Fk                                        Grey   \n",
       "1  6xzpUzzIquIyUzTLbbgSdI                                      Thrown   \n",
       "2  56tXgHlSHCfgmGhwVXNizc                                     Routine   \n",
       "3  0s3wIBczp6TdSJ2y8cveJl  Confronted - Anfisa Letyago Stranger Remix   \n",
       "4  4PSbDDd1LRYMhqPXvza6I2                             Jupiter Sunrise   \n",
       "\n",
       "   disc_number  duration_ms  explicit  popularity  track_number  \\\n",
       "0            1       290479     False          52             5   \n",
       "1            1       539229     False          45             5   \n",
       "2            1       264200     False          39             5   \n",
       "3            1       387413     False           0             6   \n",
       "4            1       248956     False           0             1   \n",
       "\n",
       "                  artists   album_type          album_name  ...  \\\n",
       "0                  Kölsch        album                1989  ...   \n",
       "1                 Kiasmos        album             Kiasmos  ...   \n",
       "2         Joris Delacroix        album       Night Visions  ...   \n",
       "3  Pan-Pot;Anfisa Letyago       single  Confronted Remixes  ...   \n",
       "4   Kollektiv Turmstrasse  compilation   10 Years Diynamic  ...   \n",
       "\n",
       "  features_duration_ms time_signature  start_of_fade_out  tempo_confidence  \\\n",
       "0               290479              3          275.90530             0.020   \n",
       "1               539229              4          517.28253             0.678   \n",
       "2               264200              3          259.04180             0.847   \n",
       "3               387414              4          387.41360             0.882   \n",
       "4               248957              4          239.63574             0.882   \n",
       "\n",
       "   time_signature_confidence  key_confidence  mode_confidence  n_beats  \\\n",
       "0                      1.000           0.500            0.525    705.0   \n",
       "1                      0.326           0.410            0.589   1074.0   \n",
       "2                      0.457           0.904            0.760    516.0   \n",
       "3                      0.498           0.512            0.503    826.0   \n",
       "4                      1.000           0.474            0.459    493.0   \n",
       "\n",
       "   n_bars           genre  \n",
       "0   234.0  minimal-techno  \n",
       "1   269.0  minimal-techno  \n",
       "2   171.0  minimal-techno  \n",
       "3   207.0  minimal-techno  \n",
       "4   123.0  minimal-techno  \n",
       "\n",
       "[5 rows x 34 columns]"
      ]
     },
     "execution_count": 6,
     "metadata": {},
     "output_type": "execute_result"
    }
   ],
   "source": [
    "tracks_df.head()\n"
   ]
  },
  {
   "cell_type": "code",
   "execution_count": 20,
   "id": "2f034488-9b38-4ddc-a15c-3f322443861c",
   "metadata": {},
   "outputs": [
    {
     "name": "stdout",
     "output_type": "stream",
     "text": [
      "Duplicati nella colonna 'id':\n",
      "Empty DataFrame\n",
      "Columns: [id, name, disc_number, duration_ms, explicit, popularity, track_number, artists, album_type, album_name, album_release_date, album_release_date_precision, album_total_tracks, danceability, energy, key, loudness, mode, speechiness, acousticness, instrumentalness, liveness, valence, tempo, features_duration_ms, time_signature, start_of_fade_out, tempo_confidence, time_signature_confidence, key_confidence, mode_confidence, n_beats, n_bars, genre]\n",
      "Index: []\n",
      "\n",
      "[0 rows x 34 columns]\n"
     ]
    }
   ],
   "source": [
    "# Assuming df is your DataFrame\n",
    "tracks_df = tracks_df.drop_duplicates(subset=['id'])\n",
    "\n",
    "# check duplicate in column id\n",
    "duplicati = tracks_df.duplicated(subset=['id', 'name', 'popularity'], keep=False)\n",
    "\n",
    "print(\"Duplicati nella colonna 'id':\")\n",
    "print(tracks_df[duplicati])"
   ]
  },
  {
   "cell_type": "code",
   "execution_count": 21,
   "id": "095503a7-81c1-4c7a-971f-c16c006290ef",
   "metadata": {},
   "outputs": [
    {
     "name": "stdout",
     "output_type": "stream",
     "text": [
      "<class 'pandas.core.frame.DataFrame'>\n",
      "Index: 89562 entries, 0 to 109546\n",
      "Data columns (total 34 columns):\n",
      " #   Column                        Non-Null Count  Dtype  \n",
      "---  ------                        --------------  -----  \n",
      " 0   id                            89562 non-null  object \n",
      " 1   name                          89562 non-null  object \n",
      " 2   disc_number                   89562 non-null  int64  \n",
      " 3   duration_ms                   89562 non-null  int64  \n",
      " 4   explicit                      89562 non-null  bool   \n",
      " 5   popularity                    89562 non-null  int64  \n",
      " 6   track_number                  89562 non-null  int64  \n",
      " 7   artists                       89562 non-null  object \n",
      " 8   album_type                    89562 non-null  object \n",
      " 9   album_name                    89562 non-null  object \n",
      " 10  album_release_date            89562 non-null  object \n",
      " 11  album_release_date_precision  89562 non-null  object \n",
      " 12  album_total_tracks            89562 non-null  int64  \n",
      " 13  danceability                  89562 non-null  float64\n",
      " 14  energy                        89562 non-null  float64\n",
      " 15  key                           89562 non-null  int64  \n",
      " 16  loudness                      89562 non-null  float64\n",
      " 17  mode                          89562 non-null  int64  \n",
      " 18  speechiness                   89562 non-null  float64\n",
      " 19  acousticness                  89562 non-null  float64\n",
      " 20  instrumentalness              89562 non-null  float64\n",
      " 21  liveness                      89562 non-null  float64\n",
      " 22  valence                       89562 non-null  float64\n",
      " 23  tempo                         89562 non-null  float64\n",
      " 24  features_duration_ms          89562 non-null  int64  \n",
      " 25  time_signature                89562 non-null  int64  \n",
      " 26  start_of_fade_out             89562 non-null  float64\n",
      " 27  tempo_confidence              89562 non-null  float64\n",
      " 28  time_signature_confidence     89562 non-null  float64\n",
      " 29  key_confidence                89562 non-null  float64\n",
      " 30  mode_confidence               89562 non-null  float64\n",
      " 31  n_beats                       89562 non-null  float64\n",
      " 32  n_bars                        89562 non-null  float64\n",
      " 33  genre                         89562 non-null  object \n",
      "dtypes: bool(1), float64(16), int64(9), object(8)\n",
      "memory usage: 23.3+ MB\n"
     ]
    }
   ],
   "source": [
    "tracks_df.info()"
   ]
  },
  {
   "cell_type": "code",
   "execution_count": 22,
   "id": "4ef2a52f-cf19-4291-8fca-72b814755d82",
   "metadata": {},
   "outputs": [
    {
     "name": "stdout",
     "output_type": "stream",
     "text": [
      "Number of artists in artists_df also present in tracks_df: 15002\n"
     ]
    }
   ],
   "source": [
    "# Extract unique artist names from artists_df and tracks_df\n",
    "artists_in_artists_df = set(artists_df['name'])\n",
    "artists_in_tracks_df = set(tracks_df['artists'])\n",
    "\n",
    "# Find common artists between the two DataFrames\n",
    "common_artists = artists_in_artists_df.intersection(artists_in_tracks_df)\n",
    "\n",
    "# Count the number of common artists\n",
    "num_common_artists = len(common_artists)\n",
    "\n",
    "print(\"Number of artists in artists_df also present in tracks_df:\", num_common_artists)"
   ]
  },
  {
   "cell_type": "code",
   "execution_count": 16,
   "id": "4d9aa409-664e-48be-b868-4efbdfb68efe",
   "metadata": {},
   "outputs": [],
   "source": [
    "#obtain a merged df with nan values for the tracks that don't have their artist in the artists_df\n",
    "merged_NaN_df = pd.merge(tracks_df, artists_df, left_on='artists', right_on='name', how='left')"
   ]
  },
  {
   "cell_type": "code",
   "execution_count": 17,
   "id": "734abd5d-a209-4ea8-a0dc-4d6e6b4c59ed",
   "metadata": {},
   "outputs": [
    {
     "name": "stdout",
     "output_type": "stream",
     "text": [
      "<class 'pandas.core.frame.DataFrame'>\n",
      "RangeIndex: 110401 entries, 0 to 110400\n",
      "Data columns (total 39 columns):\n",
      " #   Column                        Non-Null Count   Dtype  \n",
      "---  ------                        --------------   -----  \n",
      " 0   id_x                          110401 non-null  object \n",
      " 1   name_x                        110401 non-null  object \n",
      " 2   disc_number                   110401 non-null  int64  \n",
      " 3   duration_ms                   110401 non-null  int64  \n",
      " 4   explicit                      110401 non-null  bool   \n",
      " 5   popularity_x                  110401 non-null  int64  \n",
      " 6   track_number                  110401 non-null  int64  \n",
      " 7   artists                       110401 non-null  object \n",
      " 8   album_type                    110401 non-null  object \n",
      " 9   album_name                    110401 non-null  object \n",
      " 10  album_release_date            110401 non-null  object \n",
      " 11  album_release_date_precision  110401 non-null  object \n",
      " 12  album_total_tracks            110401 non-null  int64  \n",
      " 13  danceability                  110401 non-null  float64\n",
      " 14  energy                        110401 non-null  float64\n",
      " 15  key                           110401 non-null  int64  \n",
      " 16  loudness                      110401 non-null  float64\n",
      " 17  mode                          110401 non-null  int64  \n",
      " 18  speechiness                   110401 non-null  float64\n",
      " 19  acousticness                  110401 non-null  float64\n",
      " 20  instrumentalness              110401 non-null  float64\n",
      " 21  liveness                      110401 non-null  float64\n",
      " 22  valence                       110401 non-null  float64\n",
      " 23  tempo                         110401 non-null  float64\n",
      " 24  features_duration_ms          110401 non-null  int64  \n",
      " 25  time_signature                110401 non-null  int64  \n",
      " 26  start_of_fade_out             110401 non-null  float64\n",
      " 27  tempo_confidence              110401 non-null  float64\n",
      " 28  time_signature_confidence     110401 non-null  float64\n",
      " 29  key_confidence                110401 non-null  float64\n",
      " 30  mode_confidence               110401 non-null  float64\n",
      " 31  n_beats                       110401 non-null  float64\n",
      " 32  n_bars                        110401 non-null  float64\n",
      " 33  genre                         110401 non-null  object \n",
      " 34  id_y                          82332 non-null   object \n",
      " 35  name_y                        82332 non-null   object \n",
      " 36  popularity_y                  82332 non-null   float64\n",
      " 37  followers                     82332 non-null   float64\n",
      " 38  genres                        82332 non-null   object \n",
      "dtypes: bool(1), float64(18), int64(9), object(11)\n",
      "memory usage: 32.1+ MB\n"
     ]
    }
   ],
   "source": [
    "merged_NaN_df.head()\n",
    "merged_NaN_df.info()"
   ]
  },
  {
   "cell_type": "code",
   "execution_count": 18,
   "id": "10a17d35-6d38-4113-89b1-bd98d3d5a1a1",
   "metadata": {},
   "outputs": [
    {
     "data": {
      "text/plain": [
       "id_x                                0\n",
       "name_x                              0\n",
       "disc_number                         0\n",
       "duration_ms                         0\n",
       "explicit                            0\n",
       "popularity_x                        0\n",
       "track_number                        0\n",
       "artists                             0\n",
       "album_type                          0\n",
       "album_name                          0\n",
       "album_release_date                  0\n",
       "album_release_date_precision        0\n",
       "album_total_tracks                  0\n",
       "danceability                        0\n",
       "energy                              0\n",
       "key                                 0\n",
       "loudness                            0\n",
       "mode                                0\n",
       "speechiness                         0\n",
       "acousticness                        0\n",
       "instrumentalness                    0\n",
       "liveness                            0\n",
       "valence                             0\n",
       "tempo                               0\n",
       "features_duration_ms                0\n",
       "time_signature                      0\n",
       "start_of_fade_out                   0\n",
       "tempo_confidence                    0\n",
       "time_signature_confidence           0\n",
       "key_confidence                      0\n",
       "mode_confidence                     0\n",
       "n_beats                             0\n",
       "n_bars                              0\n",
       "genre                               0\n",
       "id_y                            28069\n",
       "name_y                          28069\n",
       "popularity_y                    28069\n",
       "followers                       28069\n",
       "genres                          28069\n",
       "dtype: int64"
      ]
     },
     "execution_count": 18,
     "metadata": {},
     "output_type": "execute_result"
    }
   ],
   "source": [
    "merged_NaN_df.isnull().sum()"
   ]
  },
  {
   "cell_type": "code",
   "execution_count": 23,
   "id": "c1123ae7-d138-4859-b135-a5b15ee8045f",
   "metadata": {},
   "outputs": [
    {
     "data": {
      "text/plain": [
       "id_x                            0\n",
       "name_x                          0\n",
       "disc_number                     0\n",
       "duration_ms                     0\n",
       "explicit                        0\n",
       "popularity_x                    0\n",
       "track_number                    0\n",
       "artists                         0\n",
       "album_type                      0\n",
       "album_name                      0\n",
       "album_release_date              0\n",
       "album_release_date_precision    0\n",
       "album_total_tracks              0\n",
       "danceability                    0\n",
       "energy                          0\n",
       "key                             0\n",
       "loudness                        0\n",
       "mode                            0\n",
       "speechiness                     0\n",
       "acousticness                    0\n",
       "instrumentalness                0\n",
       "liveness                        0\n",
       "valence                         0\n",
       "tempo                           0\n",
       "features_duration_ms            0\n",
       "time_signature                  0\n",
       "start_of_fade_out               0\n",
       "tempo_confidence                0\n",
       "time_signature_confidence       0\n",
       "key_confidence                  0\n",
       "mode_confidence                 0\n",
       "n_beats                         0\n",
       "n_bars                          0\n",
       "genre                           0\n",
       "id_y                            0\n",
       "name_y                          0\n",
       "popularity_y                    0\n",
       "followers                       0\n",
       "genres                          0\n",
       "dtype: int64"
      ]
     },
     "execution_count": 23,
     "metadata": {},
     "output_type": "execute_result"
    }
   ],
   "source": [
    "#obtain a merged_df witout the tracks which artist is not in the artists_df\n",
    "merged_df = pd.merge(tracks_df, artists_df, left_on='artists', right_on='name')\n",
    "merged_df.isnull().sum()\n",
    "#merged_df.info()"
   ]
  },
  {
   "cell_type": "code",
   "execution_count": 26,
   "id": "a6e25a0a-384f-4e9d-8e6a-623f7befc543",
   "metadata": {},
   "outputs": [
    {
     "name": "stdout",
     "output_type": "stream",
     "text": [
      "Duplicati nella colonna 'name_y':\n",
      "                         id_x          name_x  disc_number  duration_ms  \\\n",
      "0      4rjA5kJJWbwU1prXCvg6Fk            Grey            1       290479   \n",
      "1      1tNxprI7wf87blRuXUyEvC            Grey            1       293578   \n",
      "2      3Uto0giI75nJh6wFejmyPm       Eiswinter            1       309677   \n",
      "3      3s7cHradiNwTW2OZ9JrZXG    Grey - Mixed            1       170329   \n",
      "4      5plDcIUqvmCsbc1rvJRfk1         Loreley            1       345000   \n",
      "...                       ...             ...          ...          ...   \n",
      "66868  2p4Y8c7O0Tm48Zk6IAWcTo     Second Life            1       376615   \n",
      "66869  73RKddd2yIFya9TZRFCd6r    I Don't Care            1       235259   \n",
      "66870  5ruT2dWSHtML4esT7doTzt  Cry Me a River            1       278851   \n",
      "66886  1Gq66jNOLmAyUVqFfsAEmH         Falling            1       300000   \n",
      "66887  1b7E37BQouTJc7nf1HbIar   Tunnel Vision            1       265030   \n",
      "\n",
      "       explicit  popularity_x  track_number  artists album_type  \\\n",
      "0         False            52             5   Kölsch      album   \n",
      "1         False            53             1   Kölsch     single   \n",
      "2         False            20            10   Kölsch      album   \n",
      "3         False            54             7   Kölsch      album   \n",
      "4         False            51            12   Kölsch      album   \n",
      "...         ...           ...           ...      ...        ...   \n",
      "66868     False            25             9  SLANDER      album   \n",
      "66869      True            37             1  Borgore     single   \n",
      "66870      True            22             5  Borgore     single   \n",
      "66886     False            36             1  Subtact     single   \n",
      "66887     False            44             1  Subtact     single   \n",
      "\n",
      "                                              album_name  ... key_confidence  \\\n",
      "0                                                   1989  ...          0.500   \n",
      "1                                            Speicher 93  ...          0.325   \n",
      "2                                                   1977  ...          0.613   \n",
      "3      Defected In The House Radio Show Episode 031 (...  ...          0.397   \n",
      "4                                                   1977  ...          0.595   \n",
      "...                                                  ...  ...            ...   \n",
      "66868                                             Thrive  ...          0.612   \n",
      "66869                                       I Don't Care  ...          0.786   \n",
      "66870                         Ruined Dubstep - EP, Pt. 1  ...          0.578   \n",
      "66886                                            Falling  ...          0.556   \n",
      "66887                                      Tunnel Vision  ...          0.732   \n",
      "\n",
      "      mode_confidence  n_beats  n_bars           genre  \\\n",
      "0               0.525    705.0   234.0  minimal-techno   \n",
      "1               0.202    607.0   152.0  minimal-techno   \n",
      "2               0.560    640.0   159.0  minimal-techno   \n",
      "3               0.378    351.0    87.0  minimal-techno   \n",
      "4               0.577    736.0   184.0  minimal-techno   \n",
      "...               ...      ...     ...             ...   \n",
      "66868           0.621    805.0   203.0         dubstep   \n",
      "66869           0.702    526.0   132.0         dubstep   \n",
      "66870           0.479    299.0    75.0         dubstep   \n",
      "66886           0.805    599.0   150.0         dubstep   \n",
      "66887           0.783    707.0   177.0         dubstep   \n",
      "\n",
      "                         id_y   name_y  popularity_y  followers  \\\n",
      "0      2D9Oe8R9UhbMvFAsMJpXj0   Kölsch          51.0   218818.0   \n",
      "1      2D9Oe8R9UhbMvFAsMJpXj0   Kölsch          51.0   218818.0   \n",
      "2      2D9Oe8R9UhbMvFAsMJpXj0   Kölsch          51.0   218818.0   \n",
      "3      2D9Oe8R9UhbMvFAsMJpXj0   Kölsch          51.0   218818.0   \n",
      "4      2D9Oe8R9UhbMvFAsMJpXj0   Kölsch          51.0   218818.0   \n",
      "...                       ...      ...           ...        ...   \n",
      "66868  20DZAfCuP1TKZl5KcY7z3Q  SLANDER          65.0   425727.0   \n",
      "66869  7u160I5qtBYZTQMLEIJmyz  Borgore          48.0   585819.0   \n",
      "66870  7u160I5qtBYZTQMLEIJmyz  Borgore          48.0   585819.0   \n",
      "66886  6kx1NiHogZzkSU7lHMc3Ow  Subtact          36.0    35296.0   \n",
      "66887  6kx1NiHogZzkSU7lHMc3Ow  Subtact          36.0    35296.0   \n",
      "\n",
      "                                                  genres  \n",
      "0      ['danish electronic', 'danish techno', 'deep e...  \n",
      "1      ['danish electronic', 'danish techno', 'deep e...  \n",
      "2      ['danish electronic', 'danish techno', 'deep e...  \n",
      "3      ['danish electronic', 'danish techno', 'deep e...  \n",
      "4      ['danish electronic', 'danish techno', 'deep e...  \n",
      "...                                                  ...  \n",
      "66868                             ['brostep', 'dubstep']  \n",
      "66869  ['brostep', 'classic dubstep', 'dubstep', 'edm...  \n",
      "66870  ['brostep', 'classic dubstep', 'dubstep', 'edm...  \n",
      "66886   ['future bass', 'gaming edm', 'melodic dubstep']  \n",
      "66887   ['future bass', 'gaming edm', 'melodic dubstep']  \n",
      "\n",
      "[60448 rows x 39 columns]\n"
     ]
    }
   ],
   "source": [
    "# Assuming df is your DataFrame\n",
    "#merged_df = merged_df.drop_duplicates(subset=['id'])\n",
    "\n",
    "# check duplicate in column id\n",
    "duplicati = merged_df.duplicated(subset=['id_y'], keep=False)\n",
    "\n",
    "print(\"Duplicati nella colonna 'name_y':\")\n",
    "print(merged_df[duplicati])"
   ]
  },
  {
   "cell_type": "code",
   "execution_count": 28,
   "id": "9835c3fb-e92d-4a26-b253-57740ad2ce82",
   "metadata": {},
   "outputs": [
    {
     "name": "stdout",
     "output_type": "stream",
     "text": [
      "\n",
      "Unique values in column 'name_y' after removing duplicates:\n",
      "6447\n"
     ]
    }
   ],
   "source": [
    "unique_values = merged_df[~duplicati]['id_y'].nunique()\n",
    "\n",
    "print(\"\\nUnique values in column 'name_y' after removing duplicates:\")\n",
    "print(unique_values)"
   ]
  },
  {
   "cell_type": "code",
   "execution_count": 29,
   "id": "268e0fc6-2fea-4710-9bd3-86b069ea52f1",
   "metadata": {},
   "outputs": [],
   "source": [
    "#filling the empty genres of the artists\n",
    "def update_genres(df):\n",
    "    for index, row in df.iterrows():\n",
    "        if row['genres']=='[]':  # Check if artist_genres list is empty\n",
    "            artist_name = row['name_y']\n",
    "            # Find all songs of the artist\n",
    "            artist_songs = df[df['name_y'] == artist_name]\n",
    "            # Get unique genres of the artist's songs\n",
    "            artist_genres = set(genre for genres in artist_songs['genre'] for genre in genres)\n",
    "            # Update the genres list for the artist\n",
    "            df.at[index, 'genres'] = list(artist_genres)\n",
    "    return df\n",
    "# Call the function to update genres, obtain a merged_df but with no empty lists for artist's genres\n",
    "updated_merged_df = update_genres(merged_df.copy())"
   ]
  },
  {
   "cell_type": "code",
   "execution_count": 30,
   "id": "f7bdbe1c-d2d9-4587-99fe-6a9447577ff4",
   "metadata": {},
   "outputs": [
    {
     "name": "stdout",
     "output_type": "stream",
     "text": [
      "Empty list in genres column: False\n"
     ]
    }
   ],
   "source": [
    "empty_list_in_genres = updated_merged_df['genres'].apply(lambda x: x == '[]')\n",
    "print(\"Empty list in genres column:\", any(empty_list_in_genres))"
   ]
  },
  {
   "cell_type": "code",
   "execution_count": 34,
   "id": "760a7abd-70e4-4492-a346-cdc2d4f079a3",
   "metadata": {},
   "outputs": [
    {
     "name": "stdout",
     "output_type": "stream",
     "text": [
      "                                  name_y  popularity_x  \\\n",
      "0                                 !nvite     19.000000   \n",
      "1                  \"Puppy Dog Pals\" Cast     49.000000   \n",
      "2                    \"Weird Al\" Yankovic     27.200000   \n",
      "3                                 $affie     41.000000   \n",
      "4      'Falsettos' 2016 Broadway Company     31.000000   \n",
      "...                                  ...           ...   \n",
      "14997                                黃仲崑     22.333333   \n",
      "14998                                 黃妃     27.500000   \n",
      "14999                                黃小琥     59.000000   \n",
      "15000                                黃敏華     16.000000   \n",
      "15001                            龍藏Ryuzo      5.000000   \n",
      "\n",
      "                           id                               name  popularity  \\\n",
      "0      6KJtK1U4TEYXQgg65JYAJI                             !nvite        27.0   \n",
      "1      6XYqhT02pSA6p3BoYe9P63              \"Puppy Dog Pals\" Cast        42.0   \n",
      "2      1bDWGdIC2hardyt55nlQgG                \"Weird Al\" Yankovic        56.0   \n",
      "3      3m63AiBD7p1QAVi95d03te                             $affie        22.0   \n",
      "4      51O9K1dNA7lFlMynjvwZcz  'Falsettos' 2016 Broadway Company        26.0   \n",
      "...                       ...                                ...         ...   \n",
      "14997  4ySVIavFVnTbDRVIlGvlY9                                黃仲崑        21.0   \n",
      "14998  2CU2lSPK28TDbkHRNvM5Ms                                 黃妃        27.0   \n",
      "14999  6KCusBln9NTESgcuI0DlUz                                黃小琥        40.0   \n",
      "15000  7qKVcW0AJLcCAx244QOLbk                                黃敏華        10.0   \n",
      "15001  4dikuyQ9LHupyUxBEdb032                            龍藏Ryuzo        20.0   \n",
      "\n",
      "       followers                               genres  \n",
      "0          115.0                      ['study beats']  \n",
      "1        25550.0  [\"children's music\", 'movie tunes']  \n",
      "2       781273.0   ['comedy rock', 'comic', 'parody']  \n",
      "3           82.0                                   []  \n",
      "4         3776.0                         ['broadway']  \n",
      "...          ...                                  ...  \n",
      "14997      914.0                 ['classic mandopop']  \n",
      "14998    40535.0  ['classic mandopop', 'hokkien pop']  \n",
      "14999    48276.0     ['classic mandopop', 'mandopop']  \n",
      "15000      970.0                 ['classic cantopop']  \n",
      "15001     1684.0                  ['japanese guitar']  \n",
      "\n",
      "[15002 rows x 7 columns]\n"
     ]
    }
   ],
   "source": [
    "# Merge the two DataFrames based on the artist's name\n",
    "#Correlation between artist popularity and his songs mean popularity\n",
    "mean_popularity_per_artist = updated_merged_df.groupby('name_y')['popularity_x'].mean()\n",
    "mean_popularity_per_artist_df = mean_popularity_per_artist.reset_index()\n",
    "\n",
    "mean_popularity_per_artist_df = pd.merge(mean_popularity_per_artist_df, artists_df, left_on='name_y', right_on='name', how='left')\n",
    "\n",
    "# Display the updated DataFrame\n",
    "print(mean_popularity_per_artist_df)"
   ]
  },
  {
   "cell_type": "code",
   "execution_count": 42,
   "id": "b2b7d54b-d4b9-4ff2-9a08-870a7c83ffdc",
   "metadata": {},
   "outputs": [
    {
     "data": {
      "image/png": "[encoded data removed]",
      "text/plain": [
       "<Figure size 600x500 with 2 Axes>"
      ]
     },
     "metadata": {},
     "output_type": "display_data"
    }
   ],
   "source": [
    "correlation_matrix = selected_df.corr()\n",
    "\n",
    "# Plot the heatmap using Matplotlib\n",
    "plt.figure(figsize=(6, 5))\n",
    "plt.imshow(correlation_matrix, cmap='coolwarm', interpolation='nearest')\n",
    "\n",
    "# Annotate the heatmap with correlation values\n",
    "for i in range(len(correlation_matrix)):\n",
    "    for j in range(len(correlation_matrix)):\n",
    "        plt.text(j, i, f\"{correlation_matrix.iloc[i, j]:.2f}\", ha='center', va='center', color='white')\n",
    "\n",
    "plt.colorbar(label='Correlation')\n",
    "plt.title('Correlation Matrix')\n",
    "plt.xticks(np.arange(len(correlation_matrix)), correlation_matrix.columns, rotation=45)\n",
    "plt.yticks(np.arange(len(correlation_matrix)), correlation_matrix.index)\n",
    "plt.tight_layout()\n",
    "plt.show()"
   ]
  },
  {
   "cell_type": "code",
   "execution_count": null,
   "id": "ba01a77e-8f9e-405f-8c98-22feb61c57ca",
   "metadata": {},
   "outputs": [],
   "source": []
  }
 ],
 "metadata": {
  "kernelspec": {
   "display_name": "Python 3 (ipykernel)",
   "language": "python",
   "name": "python3"
  },
  "language_info": {
   "codemirror_mode": {
    "name": "ipython",
    "version": 3
   },
   "file_extension": ".py",
   "mimetype": "text/x-python",
   "name": "python",
   "nbconvert_exporter": "python",
   "pygments_lexer": "ipython3",
   "version": "3.11.4"
  }
 },
 "nbformat": 4,
 "nbformat_minor": 5
}
